{
 "cells": [
  {
   "cell_type": "markdown",
   "metadata": {},
   "source": [
    "# PostgreSQL"
   ]
  },
  {
   "cell_type": "markdown",
   "metadata": {},
   "source": [
    "#### What is postgres? An Open Source Relational Database. We’d like our Traking Server to have a Postgres database as a backend for storing metadata, so the first step will be installing PostgreSQL\n",
    "\n",
    "## 1. Download and install postgres on mac:\n",
    "\n",
    "Download page:\n",
    "https://postgresapp.com/downloads.html\n",
    "\n",
    "Tutorial on how to install postgre on mac:\n",
    "https://www.youtube.com/watch?v=wTqosS71Dc4"
   ]
  },
  {
   "cell_type": "markdown",
   "metadata": {},
   "source": [
    "## 2. Check your database"
   ]
  },
  {
   "cell_type": "markdown",
   "metadata": {},
   "source": [
    "#### Connect to a specific database by naming it after the psql command:\n",
    "#### !!!Run in terminal!! Do not run it here in notebook!!! #########"
   ]
  },
  {
   "cell_type": "code",
   "execution_count": null,
   "metadata": {},
   "outputs": [],
   "source": [
    "psql xuyueyang"
   ]
  },
  {
   "cell_type": "markdown",
   "metadata": {},
   "source": [
    "#### \\l. This lists the databases available on the PostgreSQL server you’re connected to:"
   ]
  },
  {
   "cell_type": "code",
   "execution_count": null,
   "metadata": {},
   "outputs": [],
   "source": [
    "\\l"
   ]
  },
  {
   "cell_type": "markdown",
   "metadata": {},
   "source": [
    "## 3. Create new user\n",
    "As you can see in the figure above, we have logged into the postgres service and now ready to execute PGSQL commands. We are going to create a new user that will have the privileges to create and manage databases within the service. You can execute the command as follows to create the new user with the right access.\n",
    "\n",
    "In the psql console:"
   ]
  },
  {
   "cell_type": "code",
   "execution_count": null,
   "metadata": {},
   "outputs": [],
   "source": [
    "# type the following command after \"xuyueyang=# \", do not forget about \";\"\n",
    "\n",
    "# create new database\n",
    "CREATE DATABASE mlflow_db;\n",
    "\n",
    "# create new user\n",
    "CREATE USER mlflow_user WITH ENCRYPTED PASSWORD 'mlflow';\n",
    "\n",
    "# grant previleges\n",
    "GRANT ALL PRIVILEGES ON DATABASE mlflow_db TO mlflow_user;\n",
    "\n"
   ]
  },
  {
   "cell_type": "code",
   "execution_count": null,
   "metadata": {},
   "outputs": [],
   "source": [
    "CREATE TABLE wine(\n",
    "    fixed_acidity float,\n",
    "    volatile_acidity float,\n",
    "    citric_acid float,\n",
    "    residual_sugar float,\n",
    "    chlorides float,\n",
    "    free_sulfur_dioxide float,\n",
    "    total_sulfur_dioxide float,\n",
    "    density float,\n",
    "    pH float,\n",
    "    sulphates float,\n",
    "    alcohol float,\n",
    "    quality integer\n",
    ");\n"
   ]
  },
  {
   "cell_type": "code",
   "execution_count": null,
   "metadata": {},
   "outputs": [],
   "source": [
    "COPY wine FROM '/home/data/wine.csv' DELIMITER ',' CSV HEADER;"
   ]
  }
 ],
 "metadata": {
  "kernelspec": {
   "display_name": "Python 3.9.7 ('base')",
   "language": "python",
   "name": "python3"
  },
  "language_info": {
   "codemirror_mode": {
    "name": "ipython",
    "version": 3
   },
   "file_extension": ".py",
   "mimetype": "text/x-python",
   "name": "python",
   "nbconvert_exporter": "python",
   "pygments_lexer": "ipython3",
   "version": "3.9.7"
  },
  "orig_nbformat": 4,
  "vscode": {
   "interpreter": {
    "hash": "c50d8d9753e2b0cf56cd56c20193913c13f12fa7f6e71366c3c18f58753a22cf"
   }
  }
 },
 "nbformat": 4,
 "nbformat_minor": 2
}
