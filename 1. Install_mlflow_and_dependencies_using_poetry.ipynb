{
 "cells": [
  {
   "cell_type": "markdown",
   "metadata": {},
   "source": [
    "# Poetry to Manage Python Dependencies and Publish Packages\n",
    "\n",
    "#### Poetry is a tool for dependency management and packaging in Python (only in python)). It allows you to declare the libraries your project depends on and it will manage (install/update) them for you. "
   ]
  },
  {
   "cell_type": "markdown",
   "metadata": {},
   "source": [
    "Useful links:\n",
    "\n",
    "Poetry official documentation\n",
    "https://python-poetry.org/docs/#installing-with-the-official-installer\n",
    "\n",
    "Conda or Poetry?\n",
    "https://medium.com/semantixbr/getting-started-with-conda-or-poetry-for-data-science-projects-1b3add43956d#:~:text=Conda%20and%20Poetry%20stand%20out,environment%20management%20for%20any%20language."
   ]
  },
  {
   "cell_type": "markdown",
   "metadata": {},
   "source": [
    "## 1. Install poetry from a new virtual env.\n",
    "\n",
    "https://python-poetry.org/docs/#installing-with-the-official-installer"
   ]
  },
  {
   "cell_type": "markdown",
   "metadata": {},
   "source": [
    "### Run the following code in terminal will be much easier... One can open this notebook in vscode, and copy paste code in terminal "
   ]
  },
  {
   "cell_type": "code",
   "execution_count": null,
   "metadata": {},
   "outputs": [],
   "source": [
    "#create a conda virtual env\n",
    "conda create --name env_jojo python=3.10\n",
    "\n",
    "#activate env\n",
    "conda activate env_jojo  \n",
    "\n",
    "#deactivate env, do not run it for now\n",
    "#conda deactivate\n",
    "\n",
    "#install poetry\n",
    "pip install poetry"
   ]
  },
  {
   "cell_type": "markdown",
   "metadata": {},
   "source": [
    "## 2. create a new project"
   ]
  },
  {
   "cell_type": "markdown",
   "metadata": {},
   "source": [
    "### Let’s create our new project, let’s call it mlflow_training:"
   ]
  },
  {
   "cell_type": "code",
   "execution_count": null,
   "metadata": {},
   "outputs": [],
   "source": [
    "poetry new mlflow_training"
   ]
  },
  {
   "cell_type": "markdown",
   "metadata": {},
   "source": [
    "### This will create the mlflow_training  directory with the following content:"
   ]
  },
  {
   "cell_type": "code",
   "execution_count": 2,
   "metadata": {},
   "outputs": [
    {
     "name": "stdout",
     "output_type": "stream",
     "text": [
      "\u001b[01;34mmlflow_training\u001b[0m\n",
      "├── \u001b[01;32mREADME.md\u001b[0m\n",
      "├── \u001b[01;34mmlflow_training\u001b[0m\n",
      "│   └── \u001b[01;32m__init__.py\u001b[0m\n",
      "├── \u001b[01;32mpyproject.toml\u001b[0m\n",
      "└── \u001b[01;34mtests\u001b[0m\n",
      "    └── \u001b[01;32m__init__.py\u001b[0m\n",
      "\n",
      "2 directories, 4 files\n"
     ]
    }
   ],
   "source": [
    "!tree mlflow_training"
   ]
  },
  {
   "cell_type": "markdown",
   "metadata": {},
   "source": [
    "### The pyproject.toml file is what is the most important here. This will orchestrate your project and its dependencies. For now, it looks like this:"
   ]
  },
  {
   "cell_type": "code",
   "execution_count": 4,
   "metadata": {},
   "outputs": [
    {
     "name": "stdout",
     "output_type": "stream",
     "text": [
      "[tool.poetry]\n",
      "name = \"mlflow-training\"\n",
      "version = \"0.1.0\"\n",
      "description = \"\"\n",
      "authors = [\"xuyueyang <yangxuyue0222@gmail.com>\"]\n",
      "readme = \"README.md\"\n",
      "packages = [{include = \"mlflow_training\"}]\n",
      "\n",
      "[tool.poetry.dependencies]\n",
      "python = \"^3.10\"\n",
      "\n",
      "\n",
      "[build-system]\n",
      "requires = [\"poetry-core\"]\n",
      "build-backend = \"poetry.core.masonry.api\"\n"
     ]
    }
   ],
   "source": [
    "!cat mlflow_training/pyproject.toml"
   ]
  },
  {
   "cell_type": "markdown",
   "metadata": {},
   "source": [
    "## 3. Add dependencies to your project"
   ]
  },
  {
   "cell_type": "markdown",
   "metadata": {},
   "source": [
    "### Let's add three packages: pandas, numpy and mlflow"
   ]
  },
  {
   "cell_type": "code",
   "execution_count": null,
   "metadata": {},
   "outputs": [],
   "source": [
    "poetry add pandas\n",
    "\n",
    "poetry add numpy\n",
    "\n",
    "poetry add mlflow\n",
    "\n",
    "#or\n",
    "#poetry add pandas numpy mlflow"
   ]
  },
  {
   "cell_type": "markdown",
   "metadata": {},
   "source": [
    "### now Let's revisit pyproject.toml file and take a look at the changes, now pandas, numpy and mlflow are there"
   ]
  },
  {
   "cell_type": "code",
   "execution_count": 7,
   "metadata": {},
   "outputs": [
    {
     "name": "stdout",
     "output_type": "stream",
     "text": [
      "[tool.poetry]\n",
      "name = \"mlflow-training\"\n",
      "version = \"0.1.0\"\n",
      "description = \"\"\n",
      "authors = [\"xuyueyang <yangxuyue0222@gmail.com>\"]\n",
      "readme = \"README.md\"\n",
      "packages = [{include = \"mlflow_training\"}]\n",
      "\n",
      "[tool.poetry.dependencies]\n",
      "python = \"^3.10\"\n",
      "pandas = \"^1.5.1\"\n",
      "numpy = \"^1.23.4\"\n",
      "mlflow = \"^1.30.0\"\n",
      "\n",
      "\n",
      "[build-system]\n",
      "requires = [\"poetry-core\"]\n",
      "build-backend = \"poetry.core.masonry.api\"\n"
     ]
    }
   ],
   "source": [
    "!cat mlflow_training/pyproject.toml"
   ]
  },
  {
   "cell_type": "markdown",
   "metadata": {},
   "source": [
    "### Also take a look at poetry.lock file\n",
    "### the poetry.lock file list all the dependencies, and dependencies of dependencies, it prevents you from automatically getting the latest versions of your dependencies."
   ]
  },
  {
   "cell_type": "markdown",
   "metadata": {},
   "source": [
    "## 4. Update dependencies to their latest versions\n",
    "\n",
    "### To update to the latest versions, use the update command. This will fetch the latest matching versions (according to your pyproject.toml file) and update the lock file with the new versions. (This is equivalent to deleting the poetry.lock file and running install again.)\n",
    "\n",
    "### You can also manually change the version in .toml file and update"
   ]
  },
  {
   "cell_type": "code",
   "execution_count": 10,
   "metadata": {},
   "outputs": [
    {
     "name": "stdout",
     "output_type": "stream",
     "text": [
      "zsh:1: command not found: poetry\n"
     ]
    }
   ],
   "source": [
    "poetry update\n"
   ]
  },
  {
   "cell_type": "markdown",
   "metadata": {},
   "source": []
  }
 ],
 "metadata": {
  "kernelspec": {
   "display_name": "Python 3.9.7 ('base')",
   "language": "python",
   "name": "python3"
  },
  "language_info": {
   "codemirror_mode": {
    "name": "ipython",
    "version": 3
   },
   "file_extension": ".py",
   "mimetype": "text/x-python",
   "name": "python",
   "nbconvert_exporter": "python",
   "pygments_lexer": "ipython3",
   "version": "3.9.7"
  },
  "orig_nbformat": 4,
  "vscode": {
   "interpreter": {
    "hash": "c50d8d9753e2b0cf56cd56c20193913c13f12fa7f6e71366c3c18f58753a22cf"
   }
  }
 },
 "nbformat": 4,
 "nbformat_minor": 2
}
